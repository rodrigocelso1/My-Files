{
 "cells": [
  {
   "cell_type": "code",
   "execution_count": 1,
   "metadata": {},
   "outputs": [],
   "source": [
    "import os\n",
    "import requests\n",
    "import pandas as pd\n",
    "from dotenv import load_dotenv\n",
    "import alpaca_trade_api as tradeapi\n",
    "\n",
    "%matplotlib inline"
   ]
  },
  {
   "cell_type": "code",
   "execution_count": 2,
   "metadata": {},
   "outputs": [
    {
     "data": {
      "text/plain": [
       "True"
      ]
     },
     "execution_count": 2,
     "metadata": {},
     "output_type": "execute_result"
    }
   ],
   "source": [
    "load_dotenv()"
   ]
  },
  {
   "cell_type": "code",
   "execution_count": 3,
   "metadata": {},
   "outputs": [],
   "source": [
    "###Set Alpaca API key and secret\n",
    "alpaca_api_key = os.getenv(\"api_key_id\")\n",
    "alpaca_secret_key = os.getenv(\"secret_api_key\")\n",
    "###Create the Alpaca API object\n",
    "alpaca = tradeapi.REST(\n",
    "    alpaca_api_key,\n",
    "    alpaca_secret_key,\n",
    "    api_version=\"v2\")"
   ]
  },
  {
   "cell_type": "code",
   "execution_count": 4,
   "metadata": {},
   "outputs": [
    {
     "data": {
      "text/html": [
       "<div>\n",
       "<style scoped>\n",
       "    .dataframe tbody tr th:only-of-type {\n",
       "        vertical-align: middle;\n",
       "    }\n",
       "\n",
       "    .dataframe tbody tr th {\n",
       "        vertical-align: top;\n",
       "    }\n",
       "\n",
       "    .dataframe thead tr th {\n",
       "        text-align: left;\n",
       "    }\n",
       "</style>\n",
       "<table border=\"1\" class=\"dataframe\">\n",
       "  <thead>\n",
       "    <tr>\n",
       "      <th></th>\n",
       "      <th colspan=\"5\" halign=\"left\">NIO</th>\n",
       "      <th colspan=\"5\" halign=\"left\">WKHS</th>\n",
       "    </tr>\n",
       "    <tr>\n",
       "      <th></th>\n",
       "      <th>open</th>\n",
       "      <th>high</th>\n",
       "      <th>low</th>\n",
       "      <th>close</th>\n",
       "      <th>volume</th>\n",
       "      <th>open</th>\n",
       "      <th>high</th>\n",
       "      <th>low</th>\n",
       "      <th>close</th>\n",
       "      <th>volume</th>\n",
       "    </tr>\n",
       "  </thead>\n",
       "  <tbody>\n",
       "    <tr>\n",
       "      <th>2020-10-09 00:00:00-04:00</th>\n",
       "      <td>21.62</td>\n",
       "      <td>21.74</td>\n",
       "      <td>21.32</td>\n",
       "      <td>21.48</td>\n",
       "      <td>70108337</td>\n",
       "      <td>23.8099</td>\n",
       "      <td>27.11</td>\n",
       "      <td>23.62</td>\n",
       "      <td>26.755</td>\n",
       "      <td>33059940</td>\n",
       "    </tr>\n",
       "  </tbody>\n",
       "</table>\n",
       "</div>"
      ],
      "text/plain": [
       "                             NIO                                    WKHS  \\\n",
       "                            open   high    low  close    volume     open   \n",
       "2020-10-09 00:00:00-04:00  21.62  21.74  21.32  21.48  70108337  23.8099   \n",
       "\n",
       "                                                           \n",
       "                            high    low   close    volume  \n",
       "2020-10-09 00:00:00-04:00  27.11  23.62  26.755  33059940  "
      ]
     },
     "execution_count": 4,
     "metadata": {},
     "output_type": "execute_result"
    }
   ],
   "source": [
    "###Format current date as ISO format\n",
    "today = pd.Timestamp(\"2020-10-09\", tz=\"America/New_York\").isoformat()\n",
    "###Set the tickers\n",
    "tickers = [\"NIO\", \"WKHS\"]\n",
    "###Set timeframe to '1D' for Alpaca API\n",
    "timeframe = \"1D\"\n",
    "###Get current closing prices for SPY and AGG\n",
    "stocks_portfolio = alpaca.get_barset(\n",
    "    tickers,\n",
    "    timeframe,\n",
    "    start = today,\n",
    "    end = today\n",
    ").df\n",
    "\n",
    "###Preview DataFrame\n",
    "stocks_portfolio"
   ]
  },
  {
   "cell_type": "code",
   "execution_count": 5,
   "metadata": {},
   "outputs": [],
   "source": [
    "###Set current amount of shares\n",
    "nio_shares = 1333\n",
    "wkhs_shares = 666"
   ]
  },
  {
   "cell_type": "code",
   "execution_count": 6,
   "metadata": {},
   "outputs": [
    {
     "data": {
      "text/html": [
       "<div>\n",
       "<style scoped>\n",
       "    .dataframe tbody tr th:only-of-type {\n",
       "        vertical-align: middle;\n",
       "    }\n",
       "\n",
       "    .dataframe tbody tr th {\n",
       "        vertical-align: top;\n",
       "    }\n",
       "\n",
       "    .dataframe thead th {\n",
       "        text-align: right;\n",
       "    }\n",
       "</style>\n",
       "<table border=\"1\" class=\"dataframe\">\n",
       "  <thead>\n",
       "    <tr style=\"text-align: right;\">\n",
       "      <th></th>\n",
       "      <th>Qty</th>\n",
       "    </tr>\n",
       "  </thead>\n",
       "  <tbody>\n",
       "    <tr>\n",
       "      <th>Nio</th>\n",
       "      <td>1333</td>\n",
       "    </tr>\n",
       "    <tr>\n",
       "      <th>Workhorse</th>\n",
       "      <td>666</td>\n",
       "    </tr>\n",
       "  </tbody>\n",
       "</table>\n",
       "</div>"
      ],
      "text/plain": [
       "            Qty\n",
       "Nio        1333\n",
       "Workhorse   666"
      ]
     },
     "execution_count": 6,
     "metadata": {},
     "output_type": "execute_result"
    }
   ],
   "source": [
    "###Create Stocks DataFrame\n",
    "stocks_data = {\n",
    "    \"Qty\": [nio_shares, wkhs_shares] \n",
    "}\n",
    "###Set the tickers\n",
    "tickers = [\"Nio\", \"Workhorse\"]\n",
    "df_portfolio = pd.DataFrame(stocks_data, index=tickers)\n",
    "###Display savings DataFrame\n",
    "df_portfolio"
   ]
  },
  {
   "cell_type": "code",
   "execution_count": 7,
   "metadata": {},
   "outputs": [
    {
     "name": "stdout",
     "output_type": "stream",
     "text": [
      " NIO current price per share is $21.48\n",
      " WORKHORSE current price per share is $26.755\n"
     ]
    }
   ],
   "source": [
    "nio_current_price = float(stocks_portfolio[\"NIO\"][\"close\"])\n",
    "wkhs_current_price = float(stocks_portfolio[\"WKHS\"][\"close\"])\n",
    "print(f\" NIO current price per share is ${nio_current_price}\")\n",
    "print(f\" WORKHORSE current price per share is ${wkhs_current_price}\")"
   ]
  },
  {
   "cell_type": "code",
   "execution_count": 8,
   "metadata": {},
   "outputs": [],
   "source": [
    "###Set AVG price shares\n",
    "nio_avg = 14.33\n",
    "wkhs_avg = 17.66"
   ]
  },
  {
   "cell_type": "code",
   "execution_count": 9,
   "metadata": {},
   "outputs": [],
   "source": [
    "nio_mkt_value = nio_shares * nio_current_price\n",
    "wkhs_mkt_value = wkhs_shares * wkhs_current_price\n",
    "nio_present_value = nio_shares * nio_avg\n",
    "wkhs_present_value = wkhs_shares * wkhs_avg\n",
    "nio_open_pnl = nio_mkt_value - nio_present_value\n",
    "wkhs_open_pnl = wkhs_mkt_value - wkhs_present_value\n",
    "nio_pnl = (nio_open_pnl / nio_present_value) * 100\n",
    "wkhs_pnl = (wkhs_open_pnl / wkhs_present_value) * 100"
   ]
  },
  {
   "cell_type": "code",
   "execution_count": 10,
   "metadata": {},
   "outputs": [
    {
     "data": {
      "text/html": [
       "<div>\n",
       "<style scoped>\n",
       "    .dataframe tbody tr th:only-of-type {\n",
       "        vertical-align: middle;\n",
       "    }\n",
       "\n",
       "    .dataframe tbody tr th {\n",
       "        vertical-align: top;\n",
       "    }\n",
       "\n",
       "    .dataframe thead th {\n",
       "        text-align: right;\n",
       "    }\n",
       "</style>\n",
       "<table border=\"1\" class=\"dataframe\">\n",
       "  <thead>\n",
       "    <tr style=\"text-align: right;\">\n",
       "      <th></th>\n",
       "      <th>Qty</th>\n",
       "      <th>Avg Price</th>\n",
       "      <th>Current Price</th>\n",
       "      <th>Mkt Value</th>\n",
       "      <th>Open P&amp;L</th>\n",
       "      <th>% P&amp;L</th>\n",
       "    </tr>\n",
       "  </thead>\n",
       "  <tbody>\n",
       "    <tr>\n",
       "      <th>Nio</th>\n",
       "      <td>1333</td>\n",
       "      <td>14.33</td>\n",
       "      <td>21.480</td>\n",
       "      <td>28632.84</td>\n",
       "      <td>9530.95</td>\n",
       "      <td>49.895324</td>\n",
       "    </tr>\n",
       "    <tr>\n",
       "      <th>Workhorse</th>\n",
       "      <td>666</td>\n",
       "      <td>17.66</td>\n",
       "      <td>26.755</td>\n",
       "      <td>17818.83</td>\n",
       "      <td>6057.27</td>\n",
       "      <td>51.500566</td>\n",
       "    </tr>\n",
       "  </tbody>\n",
       "</table>\n",
       "</div>"
      ],
      "text/plain": [
       "            Qty  Avg Price  Current Price  Mkt Value  Open P&L      % P&L\n",
       "Nio        1333      14.33         21.480   28632.84   9530.95  49.895324\n",
       "Workhorse   666      17.66         26.755   17818.83   6057.27  51.500566"
      ]
     },
     "execution_count": 10,
     "metadata": {},
     "output_type": "execute_result"
    }
   ],
   "source": [
    "df_portfolio[\"Avg Price\"] = [nio_avg, wkhs_avg]\n",
    "df_portfolio[\"Current Price\"] = [nio_current_price, wkhs_current_price]\n",
    "df_portfolio[\"Mkt Value\"] = [nio_mkt_value, wkhs_mkt_value]\n",
    "df_portfolio[\"Open P&L\"] = [nio_open_pnl, wkhs_open_pnl]\n",
    "df_portfolio[\"% P&L\"] = [nio_pnl, wkhs_pnl]\n",
    "df_portfolio"
   ]
  },
  {
   "cell_type": "code",
   "execution_count": 11,
   "metadata": {},
   "outputs": [
    {
     "data": {
      "text/plain": [
       "<matplotlib.axes._subplots.AxesSubplot at 0x21a43a734f0>"
      ]
     },
     "execution_count": 11,
     "metadata": {},
     "output_type": "execute_result"
    },
    {
     "data": {
      "image/png": "[encoded data removed]",
      "text/plain": [
       "<Figure size 432x288 with 1 Axes>"
      ]
     },
     "metadata": {},
     "output_type": "display_data"
    }
   ],
   "source": [
    "df_portfolio.plot.pie(y=\"Mkt Value\", title=\"Mkt Value\")"
   ]
  },
  {
   "cell_type": "code",
   "execution_count": 12,
   "metadata": {},
   "outputs": [
    {
     "data": {
      "text/plain": [
       "<matplotlib.axes._subplots.AxesSubplot at 0x21a441c3b80>"
      ]
     },
     "execution_count": 12,
     "metadata": {},
     "output_type": "execute_result"
    },
    {
     "data": {
      "image/png": "[encoded data removed]",
      "text/plain": [
       "<Figure size 432x288 with 1 Axes>"
      ]
     },
     "metadata": {
      "needs_background": "light"
     },
     "output_type": "display_data"
    }
   ],
   "source": [
    "df_portfolio.plot.bar(y=\"% P&L\", title=\"% P&L\")"
   ]
  },
  {
   "cell_type": "code",
   "execution_count": null,
   "metadata": {},
   "outputs": [],
   "source": []
  }
 ],
 "metadata": {
  "kernelspec": {
   "display_name": "Python 3",
   "language": "python",
   "name": "python3"
  },
  "language_info": {
   "codemirror_mode": {
    "name": "ipython",
    "version": 3
   },
   "file_extension": ".py",
   "mimetype": "text/x-python",
   "name": "python",
   "nbconvert_exporter": "python",
   "pygments_lexer": "ipython3",
   "version": "3.8.3"
  }
 },
 "nbformat": 4,
 "nbformat_minor": 4
}
